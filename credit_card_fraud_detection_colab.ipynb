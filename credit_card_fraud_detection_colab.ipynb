# Load necessary libraries
import pandas as pd
import numpy as np
import matplotlib.pyplot as plt
import seaborn as sns
from sklearn.model_selection import train_test_split
from sklearn.preprocessing import StandardScaler
from sklearn.ensemble import RandomForestClassifier
from sklearn.metrics import classification_report, confusion_matrix, roc_auc_score

# Step 1: Load the dataset
# You can download the dataset from https://www.kaggle.com/datasets/mlg-ulb/creditcardfraud
from google.colab import files
uploaded = files.upload()

# Load the dataset into a DataFrame
df = pd.read_csv('creditcard.csv')

# Step 2: Exploratory Data Analysis (EDA)
print(df.head())
print(df.info())
print(df.describe())

# Check for class imbalance
print(df['Class'].value_counts())

# Visualize the imbalance
sns.countplot(x='Class', data=df)
plt.title('Class Distribution')
plt.show()

# Step 3: Data Preprocessing
# Separate features and target variable
X = df.drop('Class', axis=1)
y = df['Class']

# Standardize the features
scaler = StandardScaler()
X_scaled = scaler.fit_transform(X)

# Step 4: Train-test split
X_train, X_test, y_train, y_test = train_test_split(X_scaled, y, test_size=0.3, random_state=42, stratify=y)

# Step 5: Train the model
# Using Random Forest Classifier
model = RandomForestClassifier(n_estimators=100, random_state=42)
model.fit(X_train, y_train)

# Step 6: Evaluate the model
y_pred = model.predict(X_test)
y_pred_proba = model.predict_proba(X_test)[:, 1]

print("Classification Report:")
print(classification_report(y_test, y_pred))

print("Confusion Matrix:")
sns.heatmap(confusion_matrix(y_test, y_pred), annot=True, fmt='d', cmap='Blues')
plt.show()

print("ROC-AUC Score:")
print(roc_auc_score(y_test, y_pred_proba))

# Optional: Feature importance
importance = model.feature_importances_
sns.barplot(x=importance, y=df.columns[:-1])
plt.title('Feature Importances')
plt.show()